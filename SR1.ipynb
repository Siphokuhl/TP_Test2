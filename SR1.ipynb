{
 "cells": [
  {
   "cell_type": "markdown",
   "id": "b5dcd4c3-66fe-49d3-a7c1-ed32952325c8",
   "metadata": {},
   "source": [
    "To find my dataset I watched the Youtube vedio from the link on the question paper I used kaggle dataset search a website for datasets. I navigated to Kaggle Dataset Search and entered the specific words\"Informal Setlements\" this brought up a list of relevant datasets each with a brief description and a link to source and download. I reviewed the result and I selected the databaset that matched what I need,and followed the link to the hosting site where I could download the dataset directly. This process was straigthForward and effecient. Its a revant dataset its aligns with my project goals and objectives."
   ]
  }
 ],
 "metadata": {
  "kernelspec": {
   "display_name": "Python 3 (ipykernel)",
   "language": "python",
   "name": "python3"
  },
  "language_info": {
   "codemirror_mode": {
    "name": "ipython",
    "version": 3
   },
   "file_extension": ".py",
   "mimetype": "text/x-python",
   "name": "python",
   "nbconvert_exporter": "python",
   "pygments_lexer": "ipython3",
   "version": "3.11.7"
  }
 },
 "nbformat": 4,
 "nbformat_minor": 5
}
