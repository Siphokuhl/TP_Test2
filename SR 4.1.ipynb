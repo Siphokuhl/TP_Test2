{
 "cells": [
  {
   "cell_type": "code",
   "execution_count": 1,
   "id": "b6445e24-e82c-4feb-a599-49457b3205b8",
   "metadata": {},
   "outputs": [],
   "source": [
    "import numpy as np"
   ]
  },
  {
   "cell_type": "code",
   "execution_count": 2,
   "id": "2535e693-7546-431d-b2d8-1707256c453a",
   "metadata": {},
   "outputs": [
    {
     "name": "stdout",
     "output_type": "stream",
     "text": [
      "Bubble Sort: [33.039, 32.583, 32.414, 36.772]\n"
     ]
    }
   ],
   "source": [
    "def bubble_sort(arr):\n",
    "  n=len(arr)\n",
    "  for i in range(n):\n",
    "    for j in range(0,n-i+1):\n",
    "        if arr[j]>arr[j+1]:\n",
    "            arr[j],arr[j+1],arr[j]\n",
    "            return arr\n",
    "Year=[33.039,32.583,32.414,36.772]\n",
    "sorted_Year=bubble_sort(Year)\n",
    "print(\"Bubble Sort:\" ,sorted_Year)"
   ]
  },
  {
   "cell_type": "code",
   "execution_count": null,
   "id": "b37bf607-4c58-45c3-a53d-a1f1a3bb7333",
   "metadata": {},
   "outputs": [],
   "source": []
  }
 ],
 "metadata": {
  "kernelspec": {
   "display_name": "Python 3 (ipykernel)",
   "language": "python",
   "name": "python3"
  },
  "language_info": {
   "codemirror_mode": {
    "name": "ipython",
    "version": 3
   },
   "file_extension": ".py",
   "mimetype": "text/x-python",
   "name": "python",
   "nbconvert_exporter": "python",
   "pygments_lexer": "ipython3",
   "version": "3.11.7"
  }
 },
 "nbformat": 4,
 "nbformat_minor": 5
}
