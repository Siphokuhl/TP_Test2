{
 "cells": [
  {
   "cell_type": "markdown",
   "id": "5d20f202-2ff4-45b7-af85-3a462e960d2e",
   "metadata": {},
   "source": [
    "Bubble sort is a simple sorting algorithm that works by repeatedly iterating through the data and swapping adjacent elements if they are in the wrong order. The time and space complexity of bubble sort can be analyzed as follows:Time complexity: Best case: O(n) (when the input is already sorted), Average case: O(n^2)Worst case: O(n^2) The best-case scenario occurs when the input is already sorted, and bubble sort only needs to iterate through the data once to confirm that it is sorted. In this case, the time complexity is O(n), where n is the number of elements in the data. The average and worst-case scenarios occur when the input is not sorted, and bubble sort needs to iterate through the data multiple times to sort it.In these cases, the time complexity is O(n^2), because the algorithm needs to compare each element with every other element. Space complexity: O(1) (in-place sorting) Bubble sort is an in-place sorting algorithm, which means that it does not require any additional storage space to sort the data. The space complexity is therefore O(1), because the algorithm only needs a constant amount of space to store the temporary swaps. Efficiency in terms of Big-O notation: Bubble sort is not efficient for large datasets, because its average and worst-case time complexity is O(n^2). This means that the running time ofthe algorithm increases quadratically with the size of the input. Bubble sort is efficient for small datasets, because its best-case time complexity is O(n). This means that the running time of the algorithm increases linearly with the size of the input. In terms of Big-O notation, the efficiency of bubble sort can be summarized as follows: Time complexity: O(n^2) (average and worst case), O(n) (best case Space complexity: O(1) Note that bubble sort is not a suitable sorting algorithm for large datasets, because its average and worst-case time complexity is O(n^2). More efficient sorting algorithms like quicksort, mergesort, and heapsort have a time complexity of O(n log n) or better.\n",
    "\n"
   ]
  }
 ],
 "metadata": {
  "kernelspec": {
   "display_name": "Python 3 (ipykernel)",
   "language": "python",
   "name": "python3"
  },
  "language_info": {
   "codemirror_mode": {
    "name": "ipython",
    "version": 3
   },
   "file_extension": ".py",
   "mimetype": "text/x-python",
   "name": "python",
   "nbconvert_exporter": "python",
   "pygments_lexer": "ipython3",
   "version": "3.11.7"
  }
 },
 "nbformat": 4,
 "nbformat_minor": 5
}
