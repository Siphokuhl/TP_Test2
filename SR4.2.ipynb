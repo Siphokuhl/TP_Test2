{
 "cells": [
  {
   "cell_type": "markdown",
   "id": "79acaa91-6bc5-4e73-b10f-cb0ab547f8a0",
   "metadata": {},
   "source": [
    "Binary search perfoms faster than linear serach for large dataset Binary search performs faster than linear search for large datasets. Linear search has a time complexity of O(n), where n is the number of elements in the dataset. This means that the algorithm checks each element one by one, resulting in a linear increase in time taken as the dataset grows. Binary search, on the other hand, has a time complexity of O(log n). This means that the algorithm divides the dataset in half with each comparison, resulting in a logarithmic reduction in time taken as the dataset grows. Here's a rough estimate of the number of comparisons required for each algorithm: Linear search: n comparisons (where n is the number of elements) Binary search: log2(n) comparisons (where n is the number of elements) For example, if you have a dataset of 1 million elements: Linear search would require approximately 1,000,000 comparisons Binary search would require approximately 20 comparisons (log2(1,000,000) = 20) As you can see, binary search is much faster than linear search for large datasets. However, for small datasets, the difference in performance may be negligible.\n",
    "\n"
   ]
  },
  {
   "cell_type": "code",
   "execution_count": 1,
   "id": "0d83cf5f-be73-4e7a-bfeb-0040e315d2a7",
   "metadata": {},
   "outputs": [],
   "source": [
    "import pandas as pd\n",
    "import numpy as np\n",
    "import matplotlib.pyplot as plt \n",
    "import seaborn as sns\n"
   ]
  },
  {
   "cell_type": "code",
   "execution_count": 4,
   "id": "1cba931a-0e8e-41f4-966e-a1226816f673",
   "metadata": {},
   "outputs": [],
   "source": [
    "df = pd.read_csv(r'C:/Users/Owamii Siphokuhle/OneDrive/Desktop/dataset.csv.csv')"
   ]
  },
  {
   "cell_type": "code",
   "execution_count": 5,
   "id": "2f5cbdce-f37b-4f66-bf57-3905c5b0e3e3",
   "metadata": {},
   "outputs": [
    {
     "name": "stdout",
     "output_type": "stream",
     "text": [
      "Linear Search: Element 35.998 found at index -1\n",
      "Binary Search: Element 35.998 found at index -1\n"
     ]
    }
   ],
   "source": [
    "# Linear Search  \n",
    "def linear_search(arr, target):\n",
    "    for index, element in enumerate(arr):\n",
    "        if element == target:\n",
    "            return index\n",
    "    return -1\n",
    "\n",
    "# Binary Search  \n",
    "def binary_search(arr, target):\n",
    "    left, right = 0, len(arr) - 1\n",
    "    while left <= right:\n",
    "        mid = (left + right) // 2\n",
    "        if arr[mid] == target:\n",
    "            return mid\n",
    "        elif arr[mid] < target:\n",
    "            left = mid + 1\n",
    "        else:\n",
    "            right = mid - 1\n",
    "    return -1\n",
    "\n",
    "Year= [2002,2001,2000,1999 ]\n",
    "target = 35.998\n",
    "linear_result = linear_search(Year, target)\n",
    "print(f\"Linear Search: Element {target} found at index {linear_result}\")\n",
    "binary_result = binary_search(Year, target)\n",
    "print(f\"Binary Search: Element {target} found at index {binary_result}\")"
   ]
  },
  {
   "cell_type": "code",
   "execution_count": null,
   "id": "1ee245ae-b16b-4ab2-8c55-f2ee3f0d2eec",
   "metadata": {},
   "outputs": [],
   "source": []
  }
 ],
 "metadata": {
  "kernelspec": {
   "display_name": "Python 3 (ipykernel)",
   "language": "python",
   "name": "python3"
  },
  "language_info": {
   "codemirror_mode": {
    "name": "ipython",
    "version": 3
   },
   "file_extension": ".py",
   "mimetype": "text/x-python",
   "name": "python",
   "nbconvert_exporter": "python",
   "pygments_lexer": "ipython3",
   "version": "3.11.7"
  }
 },
 "nbformat": 4,
 "nbformat_minor": 5
}
