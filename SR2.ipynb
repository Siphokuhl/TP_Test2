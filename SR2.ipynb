{
 "cells": [
  {
   "cell_type": "code",
   "execution_count": null,
   "id": "f19d2131-e7d7-4a57-bc6f-4307f1c97282",
   "metadata": {},
   "outputs": [],
   "source": [
    "import pandas as pd\n",
    "\n"
   ]
  },
  {
   "cell_type": "code",
   "execution_count": null,
   "id": "fb58d507-6756-4611-8922-17db9e9a1d18",
   "metadata": {},
   "outputs": [],
   "source": [
    "df = pd.read_csv(r'C:/Users/Owamii Siphokuhle/OneDrive/Desktop/dataset.csv.csv')\n",
    "print(df)\n",
    "print(df.dtype)\n",
    "print('my dataset' , df.isnull().sum())\n",
    "print(df.columns)\n",
    "print(df.size)\n",
    "print(df.loc[3:5])\n"
   ]
  },
  {
   "cell_type": "code",
   "execution_count": null,
   "id": "1ac98da5-cbce-4aca-ad4a-f807c4c37d9f",
   "metadata": {},
   "outputs": [],
   "source": [
    "print(df.duplicated().sum())\n",
    "print(df.shape)\n",
    "print(df.dead())"
   ]
  },
  {
   "cell_type": "code",
   "execution_count": null,
   "id": "788f0fd0-b04f-4157-9dfd-d639f6f8f224",
   "metadata": {},
   "outputs": [],
   "source": []
  }
 ],
 "metadata": {
  "kernelspec": {
   "display_name": "Python 3 (ipykernel)",
   "language": "python",
   "name": "python3"
  },
  "language_info": {
   "codemirror_mode": {
    "name": "ipython",
    "version": 3
   },
   "file_extension": ".py",
   "mimetype": "text/x-python",
   "name": "python",
   "nbconvert_exporter": "python",
   "pygments_lexer": "ipython3",
   "version": "3.11.7"
  }
 },
 "nbformat": 4,
 "nbformat_minor": 5
}
